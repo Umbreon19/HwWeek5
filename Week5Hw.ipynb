{
 "cells": [
  {
   "cell_type": "code",
   "execution_count": 6,
   "metadata": {
    "scrolled": true
   },
   "outputs": [
    {
     "name": "stdout",
     "output_type": "stream",
     "text": [
      "what was the total?300\n",
      "what percentage is the tip?20\n",
      "how many people are sharing the bill?4\n",
      "$ 75.0\n"
     ]
    }
   ],
   "source": [
    "total=input('what was the total?')\n",
    "total=int(total)\n",
    "tip=input('what percentage is the tip?')\n",
    "tip=int(tip)\n",
    "people=input('how many people are sharing the bill?')\n",
    "people=int(people)\n",
    "tipAmount=tip*0.01\n",
    "tipAmount=int(tipAmount)\n",
    "finaltotal=(total+(total*tipAmount))/people\n",
    "print (\"$\" , finaltotal)"
   ]
  },
  {
   "cell_type": "code",
   "execution_count": null,
   "metadata": {},
   "outputs": [],
   "source": []
  },
  {
   "cell_type": "code",
   "execution_count": null,
   "metadata": {},
   "outputs": [],
   "source": []
  },
  {
   "cell_type": "code",
   "execution_count": null,
   "metadata": {},
   "outputs": [],
   "source": []
  }
 ],
 "metadata": {
  "kernelspec": {
   "display_name": "Python 3",
   "language": "python",
   "name": "python3"
  },
  "language_info": {
   "codemirror_mode": {
    "name": "ipython",
    "version": 3
   },
   "file_extension": ".py",
   "mimetype": "text/x-python",
   "name": "python",
   "nbconvert_exporter": "python",
   "pygments_lexer": "ipython3",
   "version": "3.8.3"
  }
 },
 "nbformat": 4,
 "nbformat_minor": 4
}
